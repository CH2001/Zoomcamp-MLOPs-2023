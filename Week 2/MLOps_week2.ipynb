{
 "cells": [
  {
   "cell_type": "code",
   "execution_count": 9,
   "id": "ee48ec43-ea05-475d-9d76-e58af89227e1",
   "metadata": {},
   "outputs": [],
   "source": [
    "import mlflow\n",
    "import sklearn"
   ]
  },
  {
   "cell_type": "markdown",
   "id": "006dd0a1-7eec-4c7c-b311-95a8d8fca6f7",
   "metadata": {},
   "source": [
    "### Q1: Install MLflow "
   ]
  },
  {
   "cell_type": "code",
   "execution_count": 10,
   "id": "c1643b2f-5809-43f2-b3d4-91521f60d58f",
   "metadata": {},
   "outputs": [
    {
     "name": "stdout",
     "output_type": "stream",
     "text": [
      "mlflow version: 2.3.2\n"
     ]
    }
   ],
   "source": [
    "print(f'mlflow version: {mlflow.__version__}')"
   ]
  },
  {
   "cell_type": "markdown",
   "id": "0d24d05a-8ff4-4d22-8192-ed034ced0ba7",
   "metadata": {},
   "source": [
    "### Q2: Size of the DictVectorizer file\n"
   ]
  },
  {
   "cell_type": "code",
   "execution_count": 11,
   "id": "f36cc06c-c54f-4e28-adf8-c692474cd8a5",
   "metadata": {},
   "outputs": [
    {
     "name": "stdout",
     "output_type": "stream",
     "text": [
      "C:\\Users\\chunh\\Downloads\\Zoomcamp\\Zoomcamp - w2\\homework\\output\n",
      " Volume in drive C is OS\n",
      " Volume Serial Number is AA06-8999\n",
      "\n",
      " Directory of C:\\Users\\chunh\\Downloads\\Zoomcamp\\Zoomcamp - w2\\homework\\output\n",
      "\n",
      "30/05/2023  07:43 PM    <DIR>          .\n",
      "30/05/2023  07:43 PM    <DIR>          ..\n",
      "30/05/2023  07:43 PM           153,660 dv.pkl\n",
      "30/05/2023  07:43 PM         2,632,816 test.pkl\n",
      "30/05/2023  07:43 PM         2,146,162 train.pkl\n",
      "30/05/2023  07:43 PM         2,336,392 valid.pkl\n",
      "               4 File(s)      7,269,030 bytes\n",
      "               2 Dir(s)  178,339,876,864 bytes free\n"
     ]
    }
   ],
   "source": [
    "%cd C:\\Users\\chunh\\Downloads\\Zoomcamp\\Zoomcamp - w2\\homework\\output\n",
    "%ls"
   ]
  },
  {
   "cell_type": "markdown",
   "id": "fe42de49-c7b1-409d-963e-412ec9430ab9",
   "metadata": {},
   "source": [
    "### Q3: Value of the max_depth parameter"
   ]
  },
  {
   "cell_type": "code",
   "execution_count": 14,
   "id": "9da56b76-7427-4d87-b925-a8f10bd929a8",
   "metadata": {},
   "outputs": [
    {
     "name": "stdout",
     "output_type": "stream",
     "text": [
      "C:\\Users\\chunh\\Downloads\\Zoomcamp\\Zoomcamp - w2\\homework\n",
      "Folder PATH listing for volume OS\n",
      "Volume serial number is 000000F1 AA06:8999\n",
      "C:\\USERS\\CHUNH\\DOWNLOADS\\ZOOMCAMP\\ZOOMCAMP - W2\\HOMEWORK\\MLRUNS\n",
      "ÃÄÄÄ.trash\n",
      "ÃÄÄÄ0\n",
      "ÃÄÄÄ1\n",
      "³   ÃÄÄÄ20fd3fa62b014e22b90785f49d7784d6\n",
      "³   ³   ÃÄÄÄartifacts\n",
      "³   ³   ³   ÀÄÄÄmodel\n",
      "³   ³   ÃÄÄÄmetrics\n",
      "³   ³   ÃÄÄÄparams\n",
      "³   ³   ÀÄÄÄtags\n",
      "³   ÀÄÄÄ408e90c1da8e4edba552fdfdc75a27a6\n",
      "³       ÃÄÄÄartifacts\n",
      "³       ³   ÀÄÄÄmodel\n",
      "³       ÃÄÄÄmetrics\n",
      "³       ÃÄÄÄparams\n",
      "³       ÀÄÄÄtags\n",
      "ÀÄÄÄmodels\n"
     ]
    }
   ],
   "source": [
    "%cd C:\\Users\\chunh\\Downloads\\Zoomcamp\\Zoomcamp - w2\\homework\n",
    "!tree mlruns"
   ]
  },
  {
   "cell_type": "code",
   "execution_count": 22,
   "id": "d94ceb4c-f585-4f59-885e-f4e2bbda244f",
   "metadata": {},
   "outputs": [
    {
     "name": "stdout",
     "output_type": "stream",
     "text": [
      "C:\\Users\\chunh\\Downloads\\Zoomcamp\\Zoomcamp - w2\\homework\\mlruns\\505560845610064293\\4ab7d1cafeee488a9a5f3247c17a3a86\\params\n"
     ]
    }
   ],
   "source": [
    "%cd C:\\Users\\chunh\\Downloads\\Zoomcamp\\Zoomcamp - w2\\homework\\mlruns\\505560845610064293\\4ab7d1cafeee488a9a5f3247c17a3a86\\params"
   ]
  },
  {
   "cell_type": "code",
   "execution_count": 26,
   "id": "f6d81d52-7755-4b8b-a5e6-df8dc36195b3",
   "metadata": {},
   "outputs": [
    {
     "name": "stdout",
     "output_type": "stream",
     "text": [
      "max_depth value is 10\n"
     ]
    }
   ],
   "source": [
    "print(f'max_depth value is {open(\"max_depth\", \"r\").read()}')"
   ]
  },
  {
   "cell_type": "markdown",
   "id": "650e1482-f004-44a2-8c5b-2e473e784fa3",
   "metadata": {},
   "source": [
    "### Q4: RMSE with hyperopt"
   ]
  },
  {
   "cell_type": "code",
   "execution_count": null,
   "id": "a6c3aa26-6555-4a5c-a9ee-4baef996eefb",
   "metadata": {},
   "outputs": [],
   "source": []
  },
  {
   "cell_type": "code",
   "execution_count": null,
   "id": "8e03ac06-8819-4602-9fd8-a318b1353b0f",
   "metadata": {},
   "outputs": [],
   "source": []
  },
  {
   "cell_type": "markdown",
   "id": "43f8a0c6-2e7d-46d5-8d56-b7b45186132b",
   "metadata": {},
   "source": [
    "### Q5: RMSE on test"
   ]
  },
  {
   "cell_type": "code",
   "execution_count": null,
   "id": "096fdffb-2ed4-433b-af0d-6c5d9dcc6174",
   "metadata": {},
   "outputs": [],
   "source": []
  },
  {
   "cell_type": "code",
   "execution_count": null,
   "id": "c9576ed3-ea3c-4250-ad50-0bacc499e6a7",
   "metadata": {},
   "outputs": [],
   "source": []
  },
  {
   "cell_type": "code",
   "execution_count": null,
   "id": "673bd88e-fae9-4171-aef5-5dbaca63576f",
   "metadata": {},
   "outputs": [],
   "source": []
  }
 ],
 "metadata": {
  "kernelspec": {
   "display_name": "mlflow",
   "language": "python",
   "name": "mlflow"
  },
  "language_info": {
   "codemirror_mode": {
    "name": "ipython",
    "version": 3
   },
   "file_extension": ".py",
   "mimetype": "text/x-python",
   "name": "python",
   "nbconvert_exporter": "python",
   "pygments_lexer": "ipython3",
   "version": "3.10.4"
  }
 },
 "nbformat": 4,
 "nbformat_minor": 5
}
