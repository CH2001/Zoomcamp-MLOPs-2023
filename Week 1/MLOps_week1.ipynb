{
 "cells": [
  {
   "cell_type": "code",
   "execution_count": 1,
   "id": "f203409c-a82b-4b1e-9498-82afdcaa5e03",
   "metadata": {},
   "outputs": [],
   "source": [
    "import pandas as pd\n",
    "import pyarrow.parquet as pq\n",
    "from sklearn.feature_extraction import DictVectorizer\n",
    "from sklearn.linear_model import LinearRegression\n",
    "from sklearn.metrics import mean_squared_error"
   ]
  },
  {
   "cell_type": "markdown",
   "id": "1061f6e0-b586-417f-ab34-c0e442eba0fa",
   "metadata": {},
   "source": [
    "### Q1: Number of columns in Jan 2022 Yellow Taxi Trip data"
   ]
  },
  {
   "cell_type": "code",
   "execution_count": 2,
   "id": "64b74d43-75c1-4f99-a244-d12904c2f20c",
   "metadata": {},
   "outputs": [
    {
     "name": "stdout",
     "output_type": "stream",
     "text": [
      "Number of columns: 19\n"
     ]
    }
   ],
   "source": [
    "df = pq.read_table(source='yellow_tripdata_2022-01.parquet').to_pandas()\n",
    "print(f'Number of columns: {df.shape[1]}')"
   ]
  },
  {
   "cell_type": "markdown",
   "id": "ce6ed604-df44-4060-8280-2461b273edd4",
   "metadata": {},
   "source": [
    "### Q2: Standard deviation of the trips duration in Jan 2022 Yellow Taxi Trip data"
   ]
  },
  {
   "cell_type": "code",
   "execution_count": 13,
   "id": "70896f81-5e8e-4321-84b3-b3f6335f72df",
   "metadata": {},
   "outputs": [
    {
     "name": "stdout",
     "output_type": "stream",
     "text": [
      "Std: 46.45\n"
     ]
    }
   ],
   "source": [
    "df['duration'] = df['tpep_dropoff_datetime'].astype('datetime64[ns]') - df['tpep_pickup_datetime'].astype('datetime64[ns]')\n",
    "df['duration_mins'] = df['duration'].dt.total_seconds() / 60\n",
    "\n",
    "print(f'Std: {df[\"duration_mins\"].std():.2f}')"
   ]
  },
  {
   "cell_type": "markdown",
   "id": "53cfd697-8681-439a-b243-f8cb0e6c046d",
   "metadata": {},
   "source": [
    "### Q3: Fraction of the records left after dropping the outliers"
   ]
  },
  {
   "cell_type": "markdown",
   "id": "3a4e863a-12d1-4bb9-a582-072d2e10d139",
   "metadata": {},
   "source": [
    "df.duration_mins.describe(percentiles=[0.95, 0.98, 0.99])"
   ]
  },
  {
   "cell_type": "code",
   "execution_count": 4,
   "id": "bef21497-86da-4ccc-b671-78e7fa4f2625",
   "metadata": {},
   "outputs": [],
   "source": [
    "df_ = df[(df.duration_mins >=1) & (df.duration_mins <=60)]"
   ]
  },
  {
   "cell_type": "code",
   "execution_count": 5,
   "id": "05232f25-da2d-44ce-8f13-27980a937d52",
   "metadata": {},
   "outputs": [
    {
     "name": "stdout",
     "output_type": "stream",
     "text": [
      "Percentage remaining after removal of duplicates:  98.28 %\n"
     ]
    }
   ],
   "source": [
    "print(f'Percentage remaining after removal of duplicates: \\\n",
    "{df_.shape[0] / df.shape[0] * 100: .2f} %')"
   ]
  },
  {
   "cell_type": "markdown",
   "id": "5009b858-49aa-4a22-b01e-594ca2783652",
   "metadata": {},
   "source": [
    "### Q4: Dimensionality after OHE"
   ]
  },
  {
   "cell_type": "code",
   "execution_count": 6,
   "id": "65cbde76-55b5-4ed3-a61f-192a7fdf83ed",
   "metadata": {},
   "outputs": [
    {
     "name": "stdout",
     "output_type": "stream",
     "text": [
      "Number of columns: 516\n"
     ]
    }
   ],
   "source": [
    "categorical = ['PULocationID', 'DOLocationID'] \n",
    "numerical = ['trip_distance']\n",
    "\n",
    "df_.loc[:, categorical] = df_.loc[:, categorical].astype(str)\n",
    "train_dicts = df_[categorical + numerical].to_dict(orient='records') \n",
    "\n",
    "target = 'duration_mins'\n",
    "X_train = DictVectorizer().fit_transform(train_dicts)\n",
    "y_train = df_[target].values\n",
    "\n",
    "print(f'Number of columns: {X_train.shape[1]}')"
   ]
  },
  {
   "cell_type": "markdown",
   "id": "ea5987b5-3a94-4d1f-bbd0-646a9d3e235e",
   "metadata": {},
   "source": [
    "### Q5: RMSE on train"
   ]
  },
  {
   "cell_type": "code",
   "execution_count": 7,
   "id": "586c732e-4a13-4b03-a3e8-2c0c842eff68",
   "metadata": {},
   "outputs": [
    {
     "name": "stdout",
     "output_type": "stream",
     "text": [
      "Mean square error: 6.99\n"
     ]
    }
   ],
   "source": [
    "lr_model = LinearRegression()\n",
    "lr_model.fit(X_train, y_train)\n",
    "\n",
    "y_pred = lr_model.predict(X_train)\n",
    "\n",
    "print(f'Mean square error: {mean_squared_error(y_train, y_pred, squared=False):.2f}')"
   ]
  },
  {
   "cell_type": "markdown",
   "id": "26f1a09f-4cd9-4444-99b3-aebef96f8571",
   "metadata": {},
   "source": [
    "### Q6: RMSE on validation"
   ]
  },
  {
   "cell_type": "code",
   "execution_count": 8,
   "id": "57fa64e8-e128-451e-9cc1-df1e6a39c4d7",
   "metadata": {},
   "outputs": [],
   "source": [
    "def read_dataframe(filename):\n",
    "    if filename.endswith('.csv'):\n",
    "        df = pd.read_csv(filename)\n",
    "\n",
    "        df.tpep_dropoff_datetime = pd.to_datetime(df.tpep_dropoff_datetime)\n",
    "        df.tpep_pickup_datetime = pd.to_datetime(df.tpep_pickup_datetime)\n",
    "    elif filename.endswith('.parquet'):\n",
    "        df = pd.read_parquet(filename)\n",
    "\n",
    "    df['duration'] = df.tpep_dropoff_datetime - df.tpep_pickup_datetime\n",
    "    df.duration = df.duration.apply(lambda td: td.total_seconds() / 60)\n",
    "\n",
    "    df = df[(df.duration >= 1) & (df.duration <= 60)]\n",
    "\n",
    "    categorical = ['PULocationID', 'DOLocationID']\n",
    "    df[categorical] = df[categorical].astype(str)\n",
    "    \n",
    "    return df"
   ]
  },
  {
   "cell_type": "code",
   "execution_count": 9,
   "id": "b41dbad7-0b58-4dc6-aaec-897117f44b94",
   "metadata": {},
   "outputs": [],
   "source": [
    "df_train = read_dataframe('yellow_tripdata_2022-01.parquet')\n",
    "df_val = read_dataframe('yellow_tripdata_2022-02.parquet')"
   ]
  },
  {
   "cell_type": "code",
   "execution_count": 10,
   "id": "09a7ad09-7664-494f-ab22-a967db61a339",
   "metadata": {},
   "outputs": [],
   "source": [
    "categorical = ['PULocationID', 'DOLocationID']\n",
    "numerical = ['trip_distance']\n",
    "\n",
    "dv = DictVectorizer()\n",
    "\n",
    "train_dicts = df_train[categorical + numerical].to_dict(orient='records')\n",
    "X_train = dv.fit_transform(train_dicts)\n",
    "\n",
    "val_dicts = df_val[categorical + numerical].to_dict(orient='records')\n",
    "X_val = dv.transform(val_dicts)"
   ]
  },
  {
   "cell_type": "code",
   "execution_count": 11,
   "id": "ac89f3d1-f886-478c-84ba-131ddc9d35a1",
   "metadata": {},
   "outputs": [],
   "source": [
    "target = 'duration'\n",
    "y_train = df_train[target].values\n",
    "y_val = df_val[target].values"
   ]
  },
  {
   "cell_type": "code",
   "execution_count": 14,
   "id": "29f5c3bd-6c79-40ac-9d0f-470e50950c7a",
   "metadata": {},
   "outputs": [
    {
     "name": "stdout",
     "output_type": "stream",
     "text": [
      "Mean square error: 7.79\n"
     ]
    }
   ],
   "source": [
    "lr = LinearRegression()\n",
    "lr.fit(X_train, y_train)\n",
    "\n",
    "y_pred = lr.predict(X_val)\n",
    "\n",
    "print(f'Mean square error: {mean_squared_error(y_val, y_pred, squared=False):.2f}')"
   ]
  },
  {
   "cell_type": "code",
   "execution_count": null,
   "id": "1f317ff4-a12c-410d-8e9d-40e07c31fcc3",
   "metadata": {},
   "outputs": [],
   "source": []
  }
 ],
 "metadata": {
  "kernelspec": {
   "display_name": "Python 3 (ipykernel)",
   "language": "python",
   "name": "python3"
  },
  "language_info": {
   "codemirror_mode": {
    "name": "ipython",
    "version": 3
   },
   "file_extension": ".py",
   "mimetype": "text/x-python",
   "name": "python",
   "nbconvert_exporter": "python",
   "pygments_lexer": "ipython3",
   "version": "3.9.12"
  }
 },
 "nbformat": 4,
 "nbformat_minor": 5
}
